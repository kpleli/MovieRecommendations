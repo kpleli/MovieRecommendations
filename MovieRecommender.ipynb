{
 "cells": [
  {
   "cell_type": "code",
   "execution_count": 1,
   "metadata": {},
   "outputs": [
    {
     "name": "stdout",
     "output_type": "stream",
     "text": [
      "C:\\Users\\kevin\\Documents\\DSC478\\FinalProjectApp\n"
     ]
    }
   ],
   "source": [
    "#change working directory to where the data is saved\n",
    "import os\n",
    "cwd = os.getcwd()\n",
    "print cwd"
   ]
  },
  {
   "cell_type": "code",
   "execution_count": 2,
   "metadata": {},
   "outputs": [],
   "source": [
    "#import libraries\n",
    "import numpy as np\n",
    "from numpy import *\n",
    "import pandas as pd\n",
    "import import_preprocess_data \n",
    "import data_analysis\n",
    "import recommendation"
   ]
  },
  {
   "cell_type": "code",
   "execution_count": 3,
   "metadata": {},
   "outputs": [],
   "source": [
    "#import all data sets\n",
    "genre_information = import_preprocess_data.import_genre_information(cwd)\n",
    "movie_information = import_preprocess_data.import_movie_information(cwd,genre_information)\n",
    "user_information = import_preprocess_data.import_user_information(cwd)"
   ]
  },
  {
   "cell_type": "code",
   "execution_count": 4,
   "metadata": {
    "scrolled": true
   },
   "outputs": [
    {
     "name": "stderr",
     "output_type": "stream",
     "text": [
      "import_preprocess_data.py:36: FutureWarning: Method .as_matrix will be removed in a future version. Use .values instead.\n",
      "  return rating_user_matrix.as_matrix()\n",
      "import_preprocess_data.py:43: FutureWarning: Method .as_matrix will be removed in a future version. Use .values instead.\n",
      "  return user_ratings_matrix.as_matrix()\n"
     ]
    }
   ],
   "source": [
    "#merge user_information and movie & create rating_user_matrix & create user_rating_matrix\n",
    "user_movie_merge = import_preprocess_data.merge_user_movie(user_information,movie_information)\n",
    "rating_user_matrix = import_preprocess_data.create_rating_user_matrix(user_information)\n",
    "user_rating_matrix = import_preprocess_data.create_user_rating_matrix(user_information)\n",
    "user_rating_matrix = mat(user_rating_matrix)"
   ]
  },
  {
   "cell_type": "code",
   "execution_count": 5,
   "metadata": {},
   "outputs": [
    {
     "name": "stdout",
     "output_type": "stream",
     "text": [
      "The top 10 highest rated movies\n",
      "\n",
      "Close Shave, A (1995), Number of Ratings: 112, Average Rating 4.49\n",
      "Schindler's List (1993), Number of Ratings: 298, Average Rating 4.47\n",
      "Wrong Trousers, The (1993), Number of Ratings: 118, Average Rating 4.47\n",
      "Casablanca (1942), Number of Ratings: 243, Average Rating 4.46\n",
      "Wallace & Gromit: The Best of Aardman Animation (1996), Number of Ratings: 67, Average Rating 4.45\n",
      "Shawshank Redemption, The (1994), Number of Ratings: 283, Average Rating 4.45\n",
      "Rear Window (1954), Number of Ratings: 209, Average Rating 4.39\n",
      "Usual Suspects, The (1995), Number of Ratings: 267, Average Rating 4.39\n",
      "Star Wars (1977), Number of Ratings: 583, Average Rating 4.36\n",
      "12 Angry Men (1957), Number of Ratings: 125, Average Rating 4.34\n"
     ]
    }
   ],
   "source": [
    "#call highest_rated_movies method to see the average ratings of the highest rated movies\n",
    "data_analysis.highest_rated_movies(user_movie_merge,movie_information,10)"
   ]
  },
  {
   "cell_type": "code",
   "execution_count": 6,
   "metadata": {},
   "outputs": [
    {
     "name": "stdout",
     "output_type": "stream",
     "text": [
      "The top 10 rated movies by number of ratings\n",
      "\n",
      "Star Wars (1977), Number of Ratings: 583, Average Rating 4.36\n",
      "Contact (1997), Number of Ratings: 509, Average Rating 3.80\n",
      "Fargo (1996), Number of Ratings: 508, Average Rating 4.16\n",
      "Return of the Jedi (1983), Number of Ratings: 507, Average Rating 4.01\n",
      "Liar Liar (1997), Number of Ratings: 485, Average Rating 3.16\n",
      "English Patient, The (1996), Number of Ratings: 481, Average Rating 3.66\n",
      "Scream (1996), Number of Ratings: 478, Average Rating 3.44\n",
      "Toy Story (1995), Number of Ratings: 452, Average Rating 3.88\n",
      "Air Force One (1997), Number of Ratings: 431, Average Rating 3.63\n",
      "Independence Day (ID4) (1996), Number of Ratings: 429, Average Rating 3.44\n"
     ]
    }
   ],
   "source": [
    "#call most_rated_movies_by_number method to see the average ratings of the most frequent rated movies\n",
    "data_analysis.most_rated_movies_by_number(user_movie_merge,movie_information,10)"
   ]
  },
  {
   "cell_type": "code",
   "execution_count": 7,
   "metadata": {},
   "outputs": [
    {
     "name": "stdout",
     "output_type": "stream",
     "text": [
      "The top 5 highest rated movies in Action genre\n",
      "\n",
      "Star Wars (1977), Number of Ratings: 583, Average Rating 4.36\n",
      "Godfather, The (1972), Number of Ratings: 413, Average Rating 4.28\n",
      "Raiders of the Lost Ark (1981), Number of Ratings: 420, Average Rating 4.25\n",
      "Titanic (1997), Number of Ratings: 350, Average Rating 4.25\n",
      "Empire Strikes Back, The (1980), Number of Ratings: 367, Average Rating 4.20\n"
     ]
    }
   ],
   "source": [
    "#call highest_rated_movies_by_genre to see the top average rated movies of a specific genre.\n",
    "#movie must have a minimum of 10 ratings to outputed\n",
    "data_analysis.highest_rated_movies_by_genre(user_movie_merge,movie_information,'Action',5)"
   ]
  },
  {
   "cell_type": "code",
   "execution_count": 8,
   "metadata": {},
   "outputs": [
    {
     "name": "stdout",
     "output_type": "stream",
     "text": [
      "The top 5 highest rated movies in Adventure genre\n",
      "\n",
      "Star Wars (1977), Number of Ratings: 583, Average Rating 4.36\n",
      "Raiders of the Lost Ark (1981), Number of Ratings: 420, Average Rating 4.25\n",
      "Lawrence of Arabia (1962), Number of Ratings: 173, Average Rating 4.23\n",
      "Empire Strikes Back, The (1980), Number of Ratings: 367, Average Rating 4.20\n",
      "African Queen, The (1951), Number of Ratings: 152, Average Rating 4.18\n"
     ]
    }
   ],
   "source": [
    "#call highest_rated_movies_by_genre by Adventure genre\n",
    "data_analysis.highest_rated_movies_by_genre(user_movie_merge,movie_information,'Adventure',5)"
   ]
  },
  {
   "cell_type": "code",
   "execution_count": 9,
   "metadata": {},
   "outputs": [
    {
     "name": "stdout",
     "output_type": "stream",
     "text": [
      "The top 5 highest rated movies in Musical genre\n",
      "\n",
      "Wizard of Oz, The (1939), Number of Ratings: 246, Average Rating 4.08\n",
      "Top Hat (1935), Number of Ratings: 21, Average Rating 4.05\n",
      "Singin' in the Rain (1952), Number of Ratings: 137, Average Rating 3.99\n",
      "This Is Spinal Tap (1984), Number of Ratings: 191, Average Rating 3.91\n",
      "Gay Divorcee, The (1934), Number of Ratings: 15, Average Rating 3.87\n"
     ]
    }
   ],
   "source": [
    "#call highest_rated_movies_by_genre by Musical genre\n",
    "data_analysis.highest_rated_movies_by_genre(user_movie_merge,movie_information,'Musical',5)"
   ]
  },
  {
   "cell_type": "code",
   "execution_count": 10,
   "metadata": {},
   "outputs": [
    {
     "name": "stdout",
     "output_type": "stream",
     "text": [
      "The top 5 highest rated movies in Horror genre\n",
      "\n",
      "Psycho (1960), Number of Ratings: 239, Average Rating 4.10\n",
      "Alien (1979), Number of Ratings: 291, Average Rating 4.03\n",
      "Young Frankenstein (1974), Number of Ratings: 200, Average Rating 3.94\n",
      "Braindead (1992), Number of Ratings: 14, Average Rating 3.86\n",
      "Shining, The (1980), Number of Ratings: 206, Average Rating 3.83\n"
     ]
    }
   ],
   "source": [
    "#call highest_rated_movies_by_genre by Horror genre\n",
    "data_analysis.highest_rated_movies_by_genre(user_movie_merge,movie_information,'Horror',5)"
   ]
  },
  {
   "cell_type": "code",
   "execution_count": 11,
   "metadata": {
    "scrolled": true
   },
   "outputs": [
    {
     "name": "stdout",
     "output_type": "stream",
     "text": [
      "Top 5 Recommendations based on input of Dead Man Walking (1995):\n",
      "\n",
      "Fargo (1996)\n",
      "Leaving Las Vegas (1995)\n",
      "Godfather, The (1972)\n",
      "Twelve Monkeys (1995)\n",
      "Jerry Maguire (1996)\n"
     ]
    }
   ],
   "source": [
    "#call recommendations_based_on_item to find recommendations based on a movie input\n",
    "recommendation.recommendations_based_on_item(rating_user_matrix,movie_information,'Dead Man Walking (1995)',5)"
   ]
  },
  {
   "cell_type": "code",
   "execution_count": 12,
   "metadata": {},
   "outputs": [
    {
     "name": "stdout",
     "output_type": "stream",
     "text": [
      "Top 5 Recommendations based on input of Clerks (1994):\n",
      "\n",
      "Pulp Fiction (1994)\n",
      "Mallrats (1995)\n",
      "Monty Python and the Holy Grail (1974)\n",
      "Usual Suspects, The (1995)\n",
      "Raising Arizona (1987)\n"
     ]
    }
   ],
   "source": [
    "#call recommendations_based_on_item to find recommendations based on a movie input\n",
    "recommendation.recommendations_based_on_item(rating_user_matrix,movie_information,'Clerks (1994)',5)"
   ]
  },
  {
   "cell_type": "code",
   "execution_count": 13,
   "metadata": {
    "scrolled": true
   },
   "outputs": [
    {
     "name": "stdout",
     "output_type": "stream",
     "text": [
      "Top 5 Recommendations based on input of Fargo (1996):\n",
      "\n",
      "Twelve Monkeys (1995)\n",
      "Star Wars (1977)\n",
      "Godfather, The (1972)\n",
      "Pulp Fiction (1994)\n",
      "Silence of the Lambs, The (1991)\n"
     ]
    }
   ],
   "source": [
    "#call recommendations_based_on_item to find recommendations based on a movie input\n",
    "recommendation.recommendations_based_on_item(rating_user_matrix,movie_information,'Fargo (1996)',5)"
   ]
  },
  {
   "cell_type": "code",
   "execution_count": 14,
   "metadata": {},
   "outputs": [
    {
     "name": "stdout",
     "output_type": "stream",
     "text": [
      "Top 5 Movie Recommendations Based on Your Ratings\n",
      "\n",
      "Better Off Dead... (1985)\n",
      "Magic Hour, The (1998)\n",
      "Umbrellas of Cherbourg, The (Parapluies de Cherbourg, Les) (1964)\n",
      "Mirage (1995)\n",
      "Foreign Student (1994)\n"
     ]
    }
   ],
   "source": [
    "#call print_recommendations_based_on_ratings to find recommendations for user 5\n",
    "recommendation.print_recommendations_based_on_ratings(user_rating_matrix,movie_information,5,5)"
   ]
  },
  {
   "cell_type": "code",
   "execution_count": 15,
   "metadata": {},
   "outputs": [
    {
     "name": "stdout",
     "output_type": "stream",
     "text": [
      "Top 5 Movie Recommendations Based on Your Ratings\n",
      "\n",
      "Magic Hour, The (1998)\n",
      "Umbrellas of Cherbourg, The (Parapluies de Cherbourg, Les) (1964)\n",
      "Rendezvous in Paris (Rendez-vous de Paris, Les) (1995)\n",
      "Kim (1950)\n",
      "National Lampoon's Senior Trip (1995)\n"
     ]
    }
   ],
   "source": [
    "#call print_recommendations_based_on_ratings to find recommendations for user 500\n",
    "recommendation.print_recommendations_based_on_ratings(user_rating_matrix,movie_information,500,5)"
   ]
  },
  {
   "cell_type": "code",
   "execution_count": 16,
   "metadata": {},
   "outputs": [
    {
     "name": "stdout",
     "output_type": "stream",
     "text": [
      "Top 5 Movie Recommendations Based on Your Ratings\n",
      "\n",
      "Mirage (1995)\n",
      "Kika (1993)\n",
      "Temptress Moon (Feng Yue) (1996)\n",
      "Better Off Dead... (1985)\n",
      "Magic Hour, The (1998)\n"
     ]
    }
   ],
   "source": [
    "#call print_recommendations_based_on_ratings to find recommendations for user 275\n",
    "recommendation.print_recommendations_based_on_ratings(user_rating_matrix,movie_information,275,5)"
   ]
  },
  {
   "cell_type": "code",
   "execution_count": null,
   "metadata": {},
   "outputs": [],
   "source": []
  }
 ],
 "metadata": {
  "kernelspec": {
   "display_name": "Python 3",
   "language": "python",
   "name": "python3"
  },
  "language_info": {
   "codemirror_mode": {
    "name": "ipython",
    "version": 3
   },
   "file_extension": ".py",
   "mimetype": "text/x-python",
   "name": "python",
   "nbconvert_exporter": "python",
   "pygments_lexer": "ipython3",
   "version": "3.7.1"
  }
 },
 "nbformat": 4,
 "nbformat_minor": 2
}
